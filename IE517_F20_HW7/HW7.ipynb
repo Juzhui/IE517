{
 "cells": [
  {
   "cell_type": "code",
   "execution_count": 1,
   "metadata": {},
   "outputs": [],
   "source": [
    "# ccdefault Data Used\n",
    "# All random state is 1"
   ]
  },
  {
   "cell_type": "code",
   "execution_count": 2,
   "metadata": {},
   "outputs": [],
   "source": [
    "import numpy as np\n",
    "import pandas as pd\n",
    "import matplotlib.pyplot as plt\n",
    "import time\n",
    "\n",
    "from sklearn.metrics import accuracy_score\n",
    "from sklearn.model_selection import train_test_split\n",
    "from sklearn.model_selection import cross_val_score\n",
    "\n",
    "from sklearn.ensemble import RandomForestClassifier"
   ]
  },
  {
   "cell_type": "code",
   "execution_count": 3,
   "metadata": {},
   "outputs": [
    {
     "name": "stdout",
     "output_type": "stream",
     "text": [
      "(30000, 23) (30000,)\n"
     ]
    }
   ],
   "source": [
    "# Import data\n",
    "\n",
    "f = open('E:\\大学相关\\硕士相关\\IE517\\Module 7\\ccdefault.csv')\n",
    "df = pd.read_csv(f)\n",
    "X = df.iloc[:, 1:24]\n",
    "y = df.iloc[:, 24]\n",
    "print(X.shape, y.shape)"
   ]
  },
  {
   "cell_type": "code",
   "execution_count": 4,
   "metadata": {},
   "outputs": [
    {
     "name": "stdout",
     "output_type": "stream",
     "text": [
      "(27000, 23) (27000,)\n",
      "(3000, 23) (3000,)\n"
     ]
    }
   ],
   "source": [
    "# Random Forest\n",
    "# Train-test Split\n",
    "X_train, X_test, y_train, y_test = train_test_split(\n",
    "    X, y, test_size=0.1, random_state=1, stratify=y)\n",
    "\n",
    "print(X_train.shape, y_train.shape)\n",
    "print(X_test.shape, y_test.shape)"
   ]
  },
  {
   "cell_type": "code",
   "execution_count": 5,
   "metadata": {},
   "outputs": [
    {
     "name": "stdout",
     "output_type": "stream",
     "text": [
      "1 Complete!\n",
      "2 Complete!\n",
      "3 Complete!\n",
      "4 Complete!\n",
      "5 Complete!\n",
      "6 Complete!\n",
      "7 Complete!\n",
      "8 Complete!\n",
      "9 Complete!\n",
      "10 Complete!\n",
      "11 Complete!\n",
      "12 Complete!\n",
      "13 Complete!\n",
      "14 Complete!\n",
      "15 Complete!\n",
      "16 Complete!\n",
      "17 Complete!\n",
      "18 Complete!\n",
      "19 Complete!\n",
      "20 Complete!\n",
      "21 Complete!\n",
      "22 Complete!\n",
      "23 Complete!\n",
      "24 Complete!\n",
      "25 Complete!\n",
      "26 Complete!\n",
      "27 Complete!\n",
      "28 Complete!\n",
      "29 Complete!\n",
      "30 Complete!\n",
      "31 Complete!\n",
      "32 Complete!\n",
      "33 Complete!\n",
      "34 Complete!\n",
      "35 Complete!\n",
      "36 Complete!\n",
      "37 Complete!\n",
      "38 Complete!\n",
      "39 Complete!\n",
      "40 Complete!\n",
      "41 Complete!\n",
      "42 Complete!\n",
      "43 Complete!\n",
      "44 Complete!\n",
      "45 Complete!\n",
      "46 Complete!\n",
      "47 Complete!\n",
      "48 Complete!\n",
      "49 Complete!\n",
      "50 Complete!\n",
      "Results of 10-fold cross-validation for N_range \n",
      "N_estimators: 1, Accuracy: 0.7255185185185186, Time: 0.8410833000000011 s\n",
      "N_estimators: 2, Accuracy: 0.7861111111111111, Time: 1.523612 s\n",
      "N_estimators: 3, Accuracy: 0.7702962962962963, Time: 2.1189418999999994 s\n",
      "N_estimators: 4, Accuracy: 0.7942222222222222, Time: 2.581651800000003 s\n",
      "N_estimators: 5, Accuracy: 0.7884444444444444, Time: 3.237627700000001 s\n",
      "N_estimators: 6, Accuracy: 0.8008148148148149, Time: 3.9557806000000006 s\n",
      "N_estimators: 7, Accuracy: 0.7963703703703704, Time: 4.573205399999999 s\n",
      "N_estimators: 8, Accuracy: 0.8039259259259259, Time: 5.154227999999996 s\n",
      "N_estimators: 9, Accuracy: 0.7997407407407408, Time: 5.763373800000004 s\n",
      "N_estimators: 10, Accuracy: 0.8057037037037036, Time: 6.502862499999999 s\n",
      "N_estimators: 11, Accuracy: 0.8047407407407408, Time: 6.991361500000004 s\n",
      "N_estimators: 12, Accuracy: 0.8084814814814815, Time: 7.689553500000002 s\n",
      "N_estimators: 13, Accuracy: 0.8083333333333333, Time: 8.207069899999993 s\n",
      "N_estimators: 14, Accuracy: 0.8101111111111111, Time: 8.826472699999997 s\n",
      "N_estimators: 15, Accuracy: 0.8101481481481482, Time: 9.471456900000007 s\n",
      "N_estimators: 16, Accuracy: 0.8118148148148148, Time: 10.365946099999988 s\n",
      "N_estimators: 17, Accuracy: 0.8118518518518518, Time: 10.835796000000002 s\n",
      "N_estimators: 18, Accuracy: 0.8122962962962964, Time: 11.388540500000005 s\n",
      "N_estimators: 19, Accuracy: 0.8124814814814816, Time: 12.202603799999991 s\n",
      "N_estimators: 20, Accuracy: 0.8125555555555556, Time: 12.866938599999997 s\n",
      "N_estimators: 21, Accuracy: 0.8125555555555556, Time: 13.740198899999996 s\n",
      "N_estimators: 22, Accuracy: 0.8138888888888889, Time: 14.011656400000021 s\n",
      "N_estimators: 23, Accuracy: 0.8135925925925926, Time: 14.607756099999989 s\n",
      "N_estimators: 24, Accuracy: 0.8139999999999998, Time: 15.4558246 s\n",
      "N_estimators: 25, Accuracy: 0.8138518518518518, Time: 16.24645129999999 s\n",
      "N_estimators: 26, Accuracy: 0.8138518518518518, Time: 16.443585899999988 s\n",
      "N_estimators: 27, Accuracy: 0.8132962962962964, Time: 17.21961059999998 s\n",
      "N_estimators: 28, Accuracy: 0.8127407407407408, Time: 18.392350599999986 s\n",
      "N_estimators: 29, Accuracy: 0.8128888888888888, Time: 19.025190199999997 s\n",
      "N_estimators: 30, Accuracy: 0.8133333333333332, Time: 19.351229699999976 s\n",
      "N_estimators: 31, Accuracy: 0.8125925925925926, Time: 18.907916399999976 s\n",
      "N_estimators: 32, Accuracy: 0.8126666666666665, Time: 19.524199699999997 s\n",
      "N_estimators: 33, Accuracy: 0.8134074074074075, Time: 20.346019000000013 s\n",
      "N_estimators: 34, Accuracy: 0.813185185185185, Time: 21.741473499999984 s\n",
      "N_estimators: 35, Accuracy: 0.8134814814814815, Time: 21.44875129999997 s\n",
      "N_estimators: 36, Accuracy: 0.814111111111111, Time: 22.505853799999954 s\n",
      "N_estimators: 37, Accuracy: 0.8140000000000001, Time: 23.11048790000001 s\n",
      "N_estimators: 38, Accuracy: 0.8144814814814815, Time: 23.520996300000036 s\n",
      "N_estimators: 39, Accuracy: 0.813962962962963, Time: 24.85460039999998 s\n",
      "N_estimators: 40, Accuracy: 0.8148888888888889, Time: 26.58222139999998 s\n",
      "N_estimators: 41, Accuracy: 0.8141851851851852, Time: 28.706928800000014 s\n",
      "N_estimators: 42, Accuracy: 0.8147037037037037, Time: 31.167810200000076 s\n",
      "N_estimators: 43, Accuracy: 0.8149629629629629, Time: 30.032659299999978 s\n",
      "N_estimators: 44, Accuracy: 0.8156666666666667, Time: 27.34562859999994 s\n",
      "N_estimators: 45, Accuracy: 0.8151481481481481, Time: 27.165875400000004 s\n",
      "N_estimators: 46, Accuracy: 0.8157777777777777, Time: 27.877672899999993 s\n",
      "N_estimators: 47, Accuracy: 0.8156296296296297, Time: 28.513448100000005 s\n",
      "N_estimators: 48, Accuracy: 0.8160000000000001, Time: 29.054203799999982 s\n",
      "N_estimators: 49, Accuracy: 0.8155185185185185, Time: 29.553350699999896 s\n",
      "N_estimators: 50, Accuracy: 0.8158888888888891, Time: 30.21245849999991 s\n"
     ]
    },
    {
     "data": {
      "image/png": "[encoded data removed]",
      "text/plain": [
       "<Figure size 432x288 with 1 Axes>"
      ]
     },
     "metadata": {
      "needs_background": "light"
     },
     "output_type": "display_data"
    },
    {
     "data": {
      "image/png": "[encoded data removed]",
      "text/plain": [
       "<Figure size 432x288 with 1 Axes>"
      ]
     },
     "metadata": {
      "needs_background": "light"
     },
     "output_type": "display_data"
    }
   ],
   "source": [
    "# Random Forest\n",
    "# Cross-validation\n",
    "\n",
    "N = 50\n",
    "range_n = range(1, N + 1)\n",
    "\n",
    "ascores_train = []\n",
    "time_train = []\n",
    "\n",
    "for n_i in range_n:\n",
    "    \n",
    "    start_i = time.perf_counter()\n",
    "    \n",
    "    forest_i = RandomForestClassifier(n_estimators = n_i, random_state = 1)\n",
    "    \n",
    "    acscore_i = cross_val_score(forest_i, X_train, y_train, cv = 10)\n",
    "    \n",
    "    end_i = time.perf_counter()\n",
    "    \n",
    "    mean_train_i = np.mean(acscore_i)\n",
    "    ascores_train.append(mean_train_i)\n",
    "    \n",
    "    time_train_i = end_i - start_i\n",
    "    time_train.append(time_train_i)\n",
    "    \n",
    "    print(str(n_i) + \" Complete!\")\n",
    "\n",
    "\n",
    "print('Results of 10-fold cross-validation for N_range ')\n",
    "for i in range(len(ascores_train)):\n",
    "    print(\"N_estimators: \" + str(i + 1) + \", Accuracy: \" + str(ascores_train[i]) + \", Time: \" + str(time_train[i]) + \" s\")\n",
    "\n",
    "plt.plot(range_n, ascores_train, 'o-', label = 'K-fold')\n",
    "plt.legend()\n",
    "plt.xlabel('N_estimators')\n",
    "plt.ylabel('Accuracy')\n",
    "plt.show()\n",
    "\n",
    "plt.plot(range_n, time_train, 'o-', label = 'K-fold')\n",
    "plt.legend()\n",
    "plt.xlabel('N_estimators')\n",
    "plt.ylabel('Time')\n",
    "plt.show()"
   ]
  },
  {
   "cell_type": "code",
   "execution_count": 6,
   "metadata": {},
   "outputs": [],
   "source": [
    "# Random Forest\n",
    "# Best N_estimators is 48\n",
    "\n",
    "Best_N = 48"
   ]
  },
  {
   "cell_type": "code",
   "execution_count": 7,
   "metadata": {},
   "outputs": [
    {
     "name": "stdout",
     "output_type": "stream",
     "text": [
      "Accuracy in sample: 0.9985185185185185\n",
      "Accuracy out of sample: 0.818\n"
     ]
    }
   ],
   "source": [
    "# Random Forest\n",
    "# Accuracy\n",
    "\n",
    "feat_labels = df.iloc[:, 1:25].columns[1:]\n",
    "\n",
    "forest = RandomForestClassifier(n_estimators = Best_N, random_state = 1)\n",
    "\n",
    "forest.fit(X_train, y_train)\n",
    "\n",
    "y_pred_train = forest.predict(X_train)\n",
    "y_pred_test = forest.predict(X_test)\n",
    "acscore_train = accuracy_score(y_train, y_pred_train)\n",
    "acscore_test = accuracy_score(y_test, y_pred_test)\n",
    "\n",
    "print(\"Accuracy in sample: \" + str(acscore_train))\n",
    "print(\"Accuracy out of sample: \" + str(acscore_test))"
   ]
  },
  {
   "cell_type": "code",
   "execution_count": 8,
   "metadata": {},
   "outputs": [
    {
     "name": "stdout",
     "output_type": "stream",
     "text": [
      " 1) PAY_2                          0.101177\n",
      " 2) PAY_0                          0.067833\n",
      " 3) BILL_AMT2                      0.060513\n",
      " 4) SEX                            0.059027\n",
      " 5) BILL_AMT3                      0.053124\n",
      " 6) BILL_AMT4                      0.052075\n",
      " 7) PAY_AMT2                       0.051359\n",
      " 8) PAY_AMT1                       0.051105\n",
      " 9) BILL_AMT5                      0.050276\n",
      "10) BILL_AMT6                      0.049524\n",
      "11) PAY_AMT3                       0.047550\n",
      "12) PAY_AMT4                       0.046696\n",
      "13) DEFAULT                        0.045890\n",
      "14) PAY_3                          0.044026\n",
      "15) PAY_AMT5                       0.043957\n",
      "16) PAY_AMT6                       0.043509\n",
      "17) PAY_4                          0.026876\n",
      "18) PAY_5                          0.025539\n",
      "19) MARRIAGE                       0.020324\n",
      "20) PAY_6                          0.017648\n",
      "21) BILL_AMT1                      0.016350\n",
      "22) AGE                            0.013580\n",
      "23) EDUCATION                      0.012044\n"
     ]
    },
    {
     "data": {
      "text/plain": [
       "(-1.0, 23.0)"
      ]
     },
     "execution_count": 8,
     "metadata": {},
     "output_type": "execute_result"
    },
    {
     "data": {
      "image/png": "[encoded data removed]",
      "text/plain": [
       "<Figure size 432x288 with 1 Axes>"
      ]
     },
     "metadata": {
      "needs_background": "light"
     },
     "output_type": "display_data"
    }
   ],
   "source": [
    "# Random Forest\n",
    "# Feature Importances\n",
    "\n",
    "importances=forest.feature_importances_\n",
    "\n",
    "indices = np.argsort(importances)[::-1]\n",
    "\n",
    "for f in range(X_train.shape[1]):\n",
    "    print(\"%2d) %-*s %f\" % (f + 1, 30, feat_labels[indices[f]], importances[indices[f]]))\n",
    "\n",
    "plt.title('Feature Importance')\n",
    "plt.bar(range(X_train.shape[1]), importances[indices], align = 'center')\n",
    "plt.xticks(range(X_train.shape[1]), feat_labels, rotation = 90)\n",
    "plt.xlim([-1, X_train.shape[1]])"
   ]
  },
  {
   "cell_type": "code",
   "execution_count": 9,
   "metadata": {},
   "outputs": [
    {
     "name": "stdout",
     "output_type": "stream",
     "text": [
      "My name is Jingfan Xing\n",
      "My NetID is: jingfan5\n",
      "I hereby certify that I have read the University policy on Academic Integrity and that I am not in violation.\n"
     ]
    }
   ],
   "source": [
    "print(\"My name is Jingfan Xing\")\n",
    "print(\"My NetID is: jingfan5\")\n",
    "print(\"I hereby certify that I have read the University policy on Academic Integrity and that I am not in violation.\")"
   ]
  }
 ],
 "metadata": {
  "kernelspec": {
   "display_name": "Python 3",
   "language": "python",
   "name": "python3"
  },
  "language_info": {
   "codemirror_mode": {
    "name": "ipython",
    "version": 3
   },
   "file_extension": ".py",
   "mimetype": "text/x-python",
   "name": "python",
   "nbconvert_exporter": "python",
   "pygments_lexer": "ipython3",
   "version": "3.7.9"
  }
 },
 "nbformat": 4,
 "nbformat_minor": 4
}
